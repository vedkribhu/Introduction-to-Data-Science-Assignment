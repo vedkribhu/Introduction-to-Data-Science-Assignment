{
 "cells": [
  {
   "cell_type": "code",
   "execution_count": null,
   "metadata": {},
   "outputs": [],
   "source": [
    "# Reference used for update formulas of Multivariate GMM: https://www.python-course.eu/expectation_maximization_and_gaussian_mixture_models.php"
   ]
  },
  {
   "cell_type": "code",
   "execution_count": 7,
   "metadata": {},
   "outputs": [],
   "source": [
    "import numpy as np\n",
    "from scipy.stats import multivariate_normal\n",
    "from copy import deepcopy"
   ]
  },
  {
   "cell_type": "code",
   "execution_count": 8,
   "metadata": {},
   "outputs": [],
   "source": [
    "#kmeans++"
   ]
  },
  {
   "cell_type": "code",
   "execution_count": 9,
   "metadata": {},
   "outputs": [],
   "source": [
    "# data = []\n",
    "def kmeanspp(data):\n",
    "    k = 2\n",
    "    n = len(data)\n",
    "    random_centre = np.random.choice(list(range(n)),size = 1)[0]\n",
    "    centre = []\n",
    "    centre.append(data[random_centre])\n",
    "    centre_dict = dict()\n",
    "    nearest_centre = [random_centre for i in range(n)]\n",
    "    centre_dict[random_centre] = list(range(n))\n",
    "    for i in range(k-1):\n",
    "        p = [np.linalg.norm(data[nearest_centre[i]]-data[i])**2 for i in range(n)]\n",
    "        p = p/sum(p)\n",
    "        new_cent = np.random.choice(list(range(n)), p = p, size = 1)[0]\n",
    "        centre.append(new_cent)\n",
    "        centre_dict[new_cent] = []\n",
    "        for point in range(n):\n",
    "            if np.linalg.norm(data[point] - data[new_cent]) < np.linalg.norm(data[point] - data[nearest_centre[point]]):\n",
    "                centre_dict[nearest_centre[point]].remove(point)\n",
    "                centre_dict[new_cent].append(point)\n",
    "                nearest_centre[point] = new_cent\n",
    "    cost = 0\n",
    "    for cent in centre_dict:\n",
    "        cost+=sum([np.linalg.norm(data[cent]-data[pt])**2 for pt in centre_dict[cent]])\n",
    "    # print(\"kmeans cost after initialization\", cost)\n",
    "    n_iter = 5\n",
    "    index_dict = dict() \n",
    "    for iter_no in range(n_iter):\n",
    "        new_centers = []\n",
    "        for cent in centre_dict:\n",
    "            new_cent = np.mean([data[pt] for pt in centre_dict[cent]], axis = 0)\n",
    "            new_centers.append(new_cent)\n",
    "            index_dict[tuple(new_cent)] = cent \n",
    "            centre_dict[cent] = []\n",
    "        # print(len(new_centers[0]))\n",
    "        # print([np.linalg.norm(data[1] - cent) for cent in new_centers])\n",
    "        cost = 0\n",
    "        for point in range(n):\n",
    "            nearest_centre_full = tuple(new_centers[np.argmin([np.linalg.norm(data[point] - cent) for cent in new_centers])])\n",
    "            cent = index_dict[nearest_centre_full]\n",
    "            # print(cent)\n",
    "            \n",
    "            centre_dict[cent].append(point)\n",
    "            cost+=np.linalg.norm(nearest_centre_full-data[point])**2\n",
    "        # print(cost, \":cost after \", iter_no+1, \"-iteration\")\n",
    "    return np.array(list(index_dict.keys()))\n",
    "    # return centre\n"
   ]
  },
  {
   "cell_type": "code",
   "execution_count": 10,
   "metadata": {},
   "outputs": [],
   "source": [
    "#EM GMM fit"
   ]
  },
  {
   "cell_type": "code",
   "execution_count": 34,
   "metadata": {},
   "outputs": [],
   "source": [
    "from sklearn.mixture import GaussianMixture\n",
    "def GMM(data):\n",
    "    prior = [0.5, 0.5]\n",
    "    #Random centers\n",
    "    n = len(data)\n",
    "    mu1 = data[np.random.choice(list(range(n)),size = 1)[0]]\n",
    "    mu2 = data[np.random.choice(list(range(n)),size = 1)[0]]\n",
    "    mu = np.stack((mu1, mu2))\n",
    "    # print(mu.shape)\n",
    "    # mu = np.random.randint(min(data[:,0]),max(data[:,0]),size=(2,len(data[0])))\n",
    "    cov = np.zeros((2, 32, 32))\n",
    "    # To avoid calculation of inverse error due to not having full rank issues.\n",
    "    reg_cov = 1e-6*np.identity(32)\n",
    "    for i in range(len(cov)):\n",
    "        np.fill_diagonal(cov[i], 5)\n",
    "    n_iter = 100\n",
    "\n",
    "    for i in range(n_iter):\n",
    "        r_ic = np.zeros((10000,len(cov)))\n",
    "        sum_=0\n",
    "        for pi_c,mu_c,cov_c in zip(prior,mu,cov):\n",
    "            cov_c += reg_cov\n",
    "            sum_ += pi_c*multivariate_normal(mean=mu_c,cov=cov_c).pdf(data) \n",
    "        for mean, covariance, p, r in zip(mu, cov, prior, range(len(r_ic[0]))):\n",
    "            covariance+=reg_cov\n",
    "            mn = multivariate_normal(mean=mean,cov=covariance)\n",
    "            r_ic[:, r] = p*mn.pdf(data)/sum_\n",
    "        mu = []\n",
    "        cov = []\n",
    "        prior = []\n",
    "        log_liklihood = []\n",
    "        for c in range(len(r_ic[0])):\n",
    "            m_c = np.sum(r_ic[:, c], axis = 0)\n",
    "            # print(m_c)\n",
    "            mu_c = (1/m_c)*np.sum(data*r_ic[:,c].reshape(len(data), 1), axis = 0)\n",
    "            mu.append(mu_c)\n",
    "            # print(data.shape)\n",
    "            cov.append(np.cov(data.T, \n",
    "                    aweights=(r_ic[:,c]/m_c), \n",
    "                    bias=True))\n",
    "            prior.append(m_c/np.sum(r_ic))\n",
    "        return np.array(mu)\n",
    "    # gmm = GaussianMixture(n_components=2, covariance_type='spherical', max_iter=50)\n",
    "    # gmm.fit(data)\n",
    "    # # print(gmm.means_)\n",
    "    # return gmm.means_"
   ]
  },
  {
   "cell_type": "code",
   "execution_count": 35,
   "metadata": {},
   "outputs": [
    {
     "name": "stdout",
     "output_type": "stream",
     "text": "For c =  0.5\nkmeans done\nKmeans cent dist 0.687999831597058\nGMM done\nGMM cent dist 1.3016526412740161\nFor c =  1\nkmeans done\nKmeans cent dist 1.9788134061399765\nGMM done\nGMM cent dist 2.1711537427948335\nFor c =  1.5\nkmeans done\nKmeans cent dist 0.19282551838725923\nGMM done\nGMM cent dist 6.189097669046462\nFor c =  2\nkmeans done\nKmeans cent dist 1.4467139706834216\nGMM done\nGMM cent dist 2.6734939363549204\nFor c =  3\nkmeans done\nKmeans cent dist 2.353915769777936\nGMM done\nGMM cent dist 1.8092019983826884\nFor c =  4\nkmeans done\nKmeans cent dist 0.16340439085922517\nGMM done\nGMM cent dist 0.16854735229389617\nFor c =  8\nkmeans done\nKmeans cent dist 0.18149552556022558\nGMM done\nGMM cent dist 20.21364548925851\n"
    }
   ],
   "source": [
    "result = []\n",
    "for c in [0.5, 1, 1.5, 2, 3, 4, 8]:\n",
    "    mean1 = [0]*32\n",
    "    mean2 = [c*np.random.normal(0.0, 1, 1)[0]]*32\n",
    "    std = np.identity(32)\n",
    "    # data = np.random\n",
    "    data1 = np.random.multivariate_normal(mean1, std, (5000,))\n",
    "    data2 = np.random.multivariate_normal(mean2, std, (5000,))\n",
    "    data = np.concatenate((data2, data1))\n",
    "    # print(data.shape)\n",
    "    kmean_cent = kmeanspp(data)\n",
    "    print(\"For c = \", c)\n",
    "    print(\"kmeans done\")\n",
    "    a = np.linalg.norm(kmean_cent[0]-mean1)+np.linalg.norm(kmean_cent[1]-mean2)\n",
    "    b = np.linalg.norm(kmean_cent[1]-mean1)+np.linalg.norm(kmean_cent[0]-mean2)\n",
    "    print(\"Kmeans cent dist\", min(a,b))\n",
    "    gmm_cent = GMM(data)\n",
    "    print(\"GMM done\")\n",
    "    x = np.linalg.norm(gmm_cent[0]-mean1)+np.linalg.norm(gmm_cent[1]-mean2)\n",
    "    y = np.linalg.norm(gmm_cent[1]-mean1)+np.linalg.norm(gmm_cent[0]-mean2)\n",
    "    # print(min(a,b))\n",
    "    result.append([c, min(a,b), min(x,y)])\n",
    "    print(\"GMM cent dist\", min(x,y))\n"
   ]
  },
  {
   "cell_type": "code",
   "execution_count": 36,
   "metadata": {},
   "outputs": [
    {
     "name": "stdout",
     "output_type": "stream",
     "text": "\\begin{tabular}{rrr}\n\\hline\n 0.50 & 0.69 &  1.30 \\\\\n 1.00 & 1.98 &  2.17 \\\\\n 1.50 & 0.19 &  6.19 \\\\\n 2.00 & 1.45 &  2.67 \\\\\n 3.00 & 2.35 &  1.81 \\\\\n 4.00 & 0.16 &  0.17 \\\\\n 8.00 & 0.18 & 20.21 \\\\\n\\hline\n\\end{tabular}\n"
    }
   ],
   "source": [
    "from tabulate import tabulate\n",
    "x = tabulate(np.array(result),tablefmt=\"latex\", floatfmt=\".2f\")\n",
    "print(x)"
   ]
  }
 ],
 "metadata": {
  "kernelspec": {
   "display_name": "Python 3",
   "language": "python",
   "name": "python3"
  },
  "language_info": {
   "codemirror_mode": {
    "name": "ipython",
    "version": 3
   },
   "file_extension": ".py",
   "mimetype": "text/x-python",
   "name": "python",
   "nbconvert_exporter": "python",
   "pygments_lexer": "ipython3",
   "version": "3.7.3-final"
  }
 },
 "nbformat": 4,
 "nbformat_minor": 2
}